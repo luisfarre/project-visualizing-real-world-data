{
 "cells": [
  {
   "cell_type": "code",
   "execution_count": 17,
   "metadata": {},
   "outputs": [],
   "source": [
    "import matplotlib.pyplot as plt\n",
    "\n",
    "import matplotlib.image as mpimg\n",
    "from matplotlib.patches import Rectangle\n",
    "from matplotlib.collections import PatchCollection\n",
    "\n",
    "import numpy as np\n",
    "import pandas as pd"
   ]
  },
  {
   "cell_type": "code",
   "execution_count": 63,
   "metadata": {},
   "outputs": [],
   "source": [
    "df = pd.read_csv('data/Population-EstimatesData.csv')"
   ]
  },
  {
   "cell_type": "code",
   "execution_count": 64,
   "metadata": {},
   "outputs": [
    {
     "data": {
      "text/html": [
       "<div>\n",
       "<style scoped>\n",
       "    .dataframe tbody tr th:only-of-type {\n",
       "        vertical-align: middle;\n",
       "    }\n",
       "\n",
       "    .dataframe tbody tr th {\n",
       "        vertical-align: top;\n",
       "    }\n",
       "\n",
       "    .dataframe thead th {\n",
       "        text-align: right;\n",
       "    }\n",
       "</style>\n",
       "<table border=\"1\" class=\"dataframe\">\n",
       "  <thead>\n",
       "    <tr style=\"text-align: right;\">\n",
       "      <th></th>\n",
       "      <th>Country Name</th>\n",
       "      <th>Country Code</th>\n",
       "      <th>Indicator Name</th>\n",
       "      <th>Indicator Code</th>\n",
       "      <th>1960</th>\n",
       "      <th>1961</th>\n",
       "      <th>1962</th>\n",
       "      <th>1963</th>\n",
       "      <th>1964</th>\n",
       "      <th>1965</th>\n",
       "      <th>...</th>\n",
       "      <th>2042</th>\n",
       "      <th>2043</th>\n",
       "      <th>2044</th>\n",
       "      <th>2045</th>\n",
       "      <th>2046</th>\n",
       "      <th>2047</th>\n",
       "      <th>2048</th>\n",
       "      <th>2049</th>\n",
       "      <th>2050</th>\n",
       "      <th>Unnamed: 95</th>\n",
       "    </tr>\n",
       "  </thead>\n",
       "  <tbody>\n",
       "    <tr>\n",
       "      <th>38676</th>\n",
       "      <td>Spain</td>\n",
       "      <td>ESP</td>\n",
       "      <td>Age dependency ratio, old</td>\n",
       "      <td>SP.POP.DPND.OL</td>\n",
       "      <td>12.748438</td>\n",
       "      <td>12.949685</td>\n",
       "      <td>13.127147</td>\n",
       "      <td>13.302079</td>\n",
       "      <td>13.503936</td>\n",
       "      <td>13.750336</td>\n",
       "      <td>...</td>\n",
       "      <td>60.018578</td>\n",
       "      <td>62.160653</td>\n",
       "      <td>64.254777</td>\n",
       "      <td>66.238184</td>\n",
       "      <td>67.78344</td>\n",
       "      <td>69.128072</td>\n",
       "      <td>70.293731</td>\n",
       "      <td>71.315125</td>\n",
       "      <td>72.218882</td>\n",
       "      <td>NaN</td>\n",
       "    </tr>\n",
       "  </tbody>\n",
       "</table>\n",
       "<p>1 rows × 96 columns</p>\n",
       "</div>"
      ],
      "text/plain": [
       "      Country Name Country Code             Indicator Name  Indicator Code  \\\n",
       "38676        Spain          ESP  Age dependency ratio, old  SP.POP.DPND.OL   \n",
       "\n",
       "            1960       1961       1962       1963       1964       1965  ...  \\\n",
       "38676  12.748438  12.949685  13.127147  13.302079  13.503936  13.750336  ...   \n",
       "\n",
       "            2042       2043       2044       2045      2046       2047  \\\n",
       "38676  60.018578  62.160653  64.254777  66.238184  67.78344  69.128072   \n",
       "\n",
       "            2048       2049       2050  Unnamed: 95  \n",
       "38676  70.293731  71.315125  72.218882          NaN  \n",
       "\n",
       "[1 rows x 96 columns]"
      ]
     },
     "execution_count": 64,
     "metadata": {},
     "output_type": "execute_result"
    }
   ],
   "source": [
    "df[(df['Country Name']=='Spain')&(df['Indicator Code']=='SP.POP.DPND.OL')]"
   ]
  },
  {
   "cell_type": "code",
   "execution_count": 65,
   "metadata": {},
   "outputs": [],
   "source": [
    "x=df.columns[4:]"
   ]
  },
  {
   "cell_type": "code",
   "execution_count": 66,
   "metadata": {},
   "outputs": [],
   "source": [
    "y=df[(df['Country Name']=='Spain')&(df['Indicator Code']=='SP.POP.DPND.OL')]"
   ]
  },
  {
   "cell_type": "code",
   "execution_count": 67,
   "metadata": {},
   "outputs": [],
   "source": [
    "y=list(y.iloc[0][4:])\n",
    "x=list(x)"
   ]
  },
  {
   "cell_type": "code",
   "execution_count": 68,
   "metadata": {},
   "outputs": [
    {
     "data": {
      "text/plain": [
       "[12.748438155737801,\n",
       " 12.949685283403099,\n",
       " 13.1271466870726,\n",
       " 13.302078607669001,\n",
       " 13.5039360628104,\n",
       " 13.750336131384001,\n",
       " 14.07649514832,\n",
       " 14.433342743949199,\n",
       " 14.8034792689905,\n",
       " 15.157929975282302,\n",
       " 15.479910459260399,\n",
       " 15.743559213644302,\n",
       " 15.959760395699101,\n",
       " 16.1429555828024,\n",
       " 16.312107274759,\n",
       " 16.4781410723943,\n",
       " 16.7526472212117,\n",
       " 17.0190035591877,\n",
       " 17.2637828465906,\n",
       " 17.4643565678168,\n",
       " 17.6127973161665,\n",
       " 17.769093613250302,\n",
       " 17.875047918441897,\n",
       " 17.9686179219258,\n",
       " 18.1005582244695,\n",
       " 18.3005044123737,\n",
       " 18.587583128191604,\n",
       " 18.924538947992197,\n",
       " 19.300402073355,\n",
       " 19.6959698992942,\n",
       " 20.1012139275382,\n",
       " 20.4820025639225,\n",
       " 20.8563116135273,\n",
       " 21.240990622227603,\n",
       " 21.6609314231743,\n",
       " 22.130228097143604,\n",
       " 22.560390482989,\n",
       " 23.0333900893944,\n",
       " 23.513660078055896,\n",
       " 23.9448407978368,\n",
       " 24.297120096139,\n",
       " 24.3195214348127,\n",
       " 24.2675940137162,\n",
       " 24.1864597990023,\n",
       " 24.1341538403,\n",
       " 24.144683252388802,\n",
       " 24.235672194879697,\n",
       " 24.360360331373602,\n",
       " 24.535043181146197,\n",
       " 24.7590810158966,\n",
       " 25.023600281080103,\n",
       " 25.5870164371489,\n",
       " 26.183226580727702,\n",
       " 26.804779885355302,\n",
       " 27.4342884643087,\n",
       " 28.062786308845602,\n",
       " 28.512334529384102,\n",
       " 28.9427241525926,\n",
       " 29.3816337016014,\n",
       " 29.871122743260102,\n",
       " 30.4430399981209,\n",
       " 31.037937814615503,\n",
       " 31.6896264625769,\n",
       " 32.412612173343895,\n",
       " 33.224761119673,\n",
       " 34.1436776935646,\n",
       " 35.1135348032218,\n",
       " 36.1767159082829,\n",
       " 37.3261900279185,\n",
       " 38.547232622082,\n",
       " 39.8396097050512,\n",
       " 41.080560228083,\n",
       " 42.363065690791295,\n",
       " 43.727073612837,\n",
       " 45.21413104134479,\n",
       " 46.8452867922246,\n",
       " 48.4371064782426,\n",
       " 50.1298199523471,\n",
       " 51.9289837132134,\n",
       " 53.853349505422706,\n",
       " 55.9231716198234,\n",
       " 57.92145509668671,\n",
       " 60.0185776415798,\n",
       " 62.1606533447864,\n",
       " 64.25477712637921,\n",
       " 66.23818354952189,\n",
       " 67.7834396329752,\n",
       " 69.12807169392299,\n",
       " 70.2937310926746,\n",
       " 71.3151253529943,\n",
       " 72.218882353021,\n",
       " nan]"
      ]
     },
     "execution_count": 68,
     "metadata": {},
     "output_type": "execute_result"
    }
   ],
   "source": [
    "y"
   ]
  },
  {
   "cell_type": "code",
   "execution_count": 70,
   "metadata": {},
   "outputs": [
    {
     "data": {
      "text/plain": [
       "[<matplotlib.lines.Line2D at 0x11b4c3bd0>]"
      ]
     },
     "execution_count": 70,
     "metadata": {},
     "output_type": "execute_result"
    },
    {
     "data": {
      "image/png": "[encoded data removed]",
      "text/plain": [
       "<Figure size 432x288 with 1 Axes>"
      ]
     },
     "metadata": {
      "needs_background": "light"
     },
     "output_type": "display_data"
    }
   ],
   "source": [
    "plt.plot(x, y)"
   ]
  },
  {
   "cell_type": "code",
   "execution_count": null,
   "metadata": {},
   "outputs": [],
   "source": []
  }
 ],
 "metadata": {
  "kernelspec": {
   "display_name": "Python 3",
   "language": "python",
   "name": "python3"
  },
  "language_info": {
   "codemirror_mode": {
    "name": "ipython",
    "version": 3
   },
   "file_extension": ".py",
   "mimetype": "text/x-python",
   "name": "python",
   "nbconvert_exporter": "python",
   "pygments_lexer": "ipython3",
   "version": "3.7.6"
  }
 },
 "nbformat": 4,
 "nbformat_minor": 2
}
