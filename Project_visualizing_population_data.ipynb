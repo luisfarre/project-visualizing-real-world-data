{
 "cells": [
  {
   "cell_type": "code",
   "execution_count": 21,
   "metadata": {},
   "outputs": [
    {
     "data": {
      "text/html": [
       "        <script type=\"text/javascript\">\n",
       "        window.PlotlyConfig = {MathJaxConfig: 'local'};\n",
       "        if (window.MathJax) {MathJax.Hub.Config({SVG: {font: \"STIX-Web\"}});}\n",
       "        if (typeof require !== 'undefined') {\n",
       "        require.undef(\"plotly\");\n",
       "        requirejs.config({\n",
       "            paths: {\n",
       "                'plotly': ['https://cdn.plot.ly/plotly-latest.min']\n",
       "            }\n",
       "        });\n",
       "        require(['plotly'], function(Plotly) {\n",
       "            window._Plotly = Plotly;\n",
       "        });\n",
       "        }\n",
       "        </script>\n",
       "        "
      ]
     },
     "metadata": {},
     "output_type": "display_data"
    }
   ],
   "source": [
    "import matplotlib.pyplot as plt\n",
    "import seaborn as sns\n",
    "import ipywidgets as widgets\n",
    "import plotly as py\n",
    "import cufflinks as cf\n",
    "from IPython.display import clear_output\n",
    "cf.go_offline()\n",
    "\n",
    "import numpy as np\n",
    "import pandas as pd"
   ]
  },
  {
   "cell_type": "code",
   "execution_count": 2,
   "metadata": {},
   "outputs": [],
   "source": [
    "'''Se hace un read del dataset seleccionado'''\n",
    "\n",
    "df = pd.read_csv('data/Population-EstimatesData.csv')"
   ]
  },
  {
   "cell_type": "code",
   "execution_count": 3,
   "metadata": {},
   "outputs": [
    {
     "data": {
      "text/html": [
       "<div>\n",
       "<style scoped>\n",
       "    .dataframe tbody tr th:only-of-type {\n",
       "        vertical-align: middle;\n",
       "    }\n",
       "\n",
       "    .dataframe tbody tr th {\n",
       "        vertical-align: top;\n",
       "    }\n",
       "\n",
       "    .dataframe thead th {\n",
       "        text-align: right;\n",
       "    }\n",
       "</style>\n",
       "<table border=\"1\" class=\"dataframe\">\n",
       "  <thead>\n",
       "    <tr style=\"text-align: right;\">\n",
       "      <th></th>\n",
       "      <th>Country Name</th>\n",
       "      <th>Country Code</th>\n",
       "      <th>Indicator Name</th>\n",
       "      <th>Indicator Code</th>\n",
       "      <th>1960</th>\n",
       "      <th>1961</th>\n",
       "      <th>1962</th>\n",
       "      <th>1963</th>\n",
       "      <th>1964</th>\n",
       "      <th>1965</th>\n",
       "      <th>...</th>\n",
       "      <th>2042</th>\n",
       "      <th>2043</th>\n",
       "      <th>2044</th>\n",
       "      <th>2045</th>\n",
       "      <th>2046</th>\n",
       "      <th>2047</th>\n",
       "      <th>2048</th>\n",
       "      <th>2049</th>\n",
       "      <th>2050</th>\n",
       "      <th>Unnamed: 95</th>\n",
       "    </tr>\n",
       "  </thead>\n",
       "  <tbody>\n",
       "    <tr>\n",
       "      <th>0</th>\n",
       "      <td>Arab World</td>\n",
       "      <td>ARB</td>\n",
       "      <td>Age dependency ratio (% of working-age populat...</td>\n",
       "      <td>SP.POP.DPND</td>\n",
       "      <td>88.061110</td>\n",
       "      <td>89.489513</td>\n",
       "      <td>90.782451</td>\n",
       "      <td>91.898948</td>\n",
       "      <td>92.728007</td>\n",
       "      <td>93.20129</td>\n",
       "      <td>...</td>\n",
       "      <td>54.356396</td>\n",
       "      <td>54.502067</td>\n",
       "      <td>54.676725</td>\n",
       "      <td>54.874161</td>\n",
       "      <td>55.102246</td>\n",
       "      <td>55.331887</td>\n",
       "      <td>55.562180</td>\n",
       "      <td>55.789065</td>\n",
       "      <td>56.009450</td>\n",
       "      <td>NaN</td>\n",
       "    </tr>\n",
       "    <tr>\n",
       "      <th>1</th>\n",
       "      <td>Arab World</td>\n",
       "      <td>ARB</td>\n",
       "      <td>Age dependency ratio, old</td>\n",
       "      <td>SP.POP.DPND.OL</td>\n",
       "      <td>6.591951</td>\n",
       "      <td>6.700903</td>\n",
       "      <td>6.793279</td>\n",
       "      <td>6.867327</td>\n",
       "      <td>6.919224</td>\n",
       "      <td>6.94779</td>\n",
       "      <td>...</td>\n",
       "      <td>13.345549</td>\n",
       "      <td>13.732773</td>\n",
       "      <td>14.132766</td>\n",
       "      <td>14.544481</td>\n",
       "      <td>14.946251</td>\n",
       "      <td>15.349197</td>\n",
       "      <td>15.755873</td>\n",
       "      <td>16.168726</td>\n",
       "      <td>16.589418</td>\n",
       "      <td>NaN</td>\n",
       "    </tr>\n",
       "  </tbody>\n",
       "</table>\n",
       "<p>2 rows × 96 columns</p>\n",
       "</div>"
      ],
      "text/plain": [
       "  Country Name Country Code  \\\n",
       "0   Arab World          ARB   \n",
       "1   Arab World          ARB   \n",
       "\n",
       "                                      Indicator Name  Indicator Code  \\\n",
       "0  Age dependency ratio (% of working-age populat...     SP.POP.DPND   \n",
       "1                          Age dependency ratio, old  SP.POP.DPND.OL   \n",
       "\n",
       "        1960       1961       1962       1963       1964      1965  ...  \\\n",
       "0  88.061110  89.489513  90.782451  91.898948  92.728007  93.20129  ...   \n",
       "1   6.591951   6.700903   6.793279   6.867327   6.919224   6.94779  ...   \n",
       "\n",
       "        2042       2043       2044       2045       2046       2047  \\\n",
       "0  54.356396  54.502067  54.676725  54.874161  55.102246  55.331887   \n",
       "1  13.345549  13.732773  14.132766  14.544481  14.946251  15.349197   \n",
       "\n",
       "        2048       2049       2050  Unnamed: 95  \n",
       "0  55.562180  55.789065  56.009450          NaN  \n",
       "1  15.755873  16.168726  16.589418          NaN  \n",
       "\n",
       "[2 rows x 96 columns]"
      ]
     },
     "execution_count": 3,
     "metadata": {},
     "output_type": "execute_result"
    }
   ],
   "source": [
    "df.head(2)"
   ]
  },
  {
   "cell_type": "code",
   "execution_count": 4,
   "metadata": {},
   "outputs": [
    {
     "name": "stdout",
     "output_type": "stream",
     "text": [
      "We have: 259 counties\n",
      "We have: 175 indicators\n"
     ]
    }
   ],
   "source": [
    "'''Se observa que la variable año esta como headers y eso puede suponer un problema a la hora de tratar los datos.\n",
    "Primero se mira cuantas variables se tienen y cuantos paises para conocer un poco mejor el Dataset'''\n",
    "\n",
    "countries = df['Country Name'].unique()\n",
    "indicators = df['Indicator Name'].unique()\n",
    "print(f'We have: {len(countries)} counties')\n",
    "print(f'We have: {len(indicators)} indicators')"
   ]
  },
  {
   "cell_type": "code",
   "execution_count": 5,
   "metadata": {},
   "outputs": [],
   "source": [
    "'''Para conseguir poner el año como columna se fijan las 4 primeras columnas como indices'''\n",
    "\n",
    "df = df.set_index(['Country Name','Country Code','Indicator Name','Indicator Code'])"
   ]
  },
  {
   "cell_type": "code",
   "execution_count": 6,
   "metadata": {},
   "outputs": [],
   "source": [
    "'''Se hace un stack para poder poner el año como una columna, se convierte en un DeFrame y se resetea el indice'''\n",
    "\n",
    "df = df.stack()\n",
    "df = pd.DataFrame(df)\n",
    "df = df.reset_index()"
   ]
  },
  {
   "cell_type": "code",
   "execution_count": 7,
   "metadata": {},
   "outputs": [],
   "source": [
    "'''Se renombran las columnas para poder trabajar con ellas mejor posteriormente'''\n",
    "\n",
    "df = df.rename(columns={0:'Values','level_4':'Year'})"
   ]
  },
  {
   "cell_type": "code",
   "execution_count": 8,
   "metadata": {},
   "outputs": [],
   "source": [
    "'''Se realiza una pivot table para tener los indicadores como columnas'''\n",
    "\n",
    "df = df.pivot_table(index=['Country Name','Country Code','Year'],columns=['Indicator Name'],values='Values')"
   ]
  },
  {
   "cell_type": "code",
   "execution_count": 9,
   "metadata": {},
   "outputs": [
    {
     "data": {
      "text/html": [
       "<div>\n",
       "<style scoped>\n",
       "    .dataframe tbody tr th:only-of-type {\n",
       "        vertical-align: middle;\n",
       "    }\n",
       "\n",
       "    .dataframe tbody tr th {\n",
       "        vertical-align: top;\n",
       "    }\n",
       "\n",
       "    .dataframe thead th {\n",
       "        text-align: right;\n",
       "    }\n",
       "</style>\n",
       "<table border=\"1\" class=\"dataframe\">\n",
       "  <thead>\n",
       "    <tr style=\"text-align: right;\">\n",
       "      <th>Indicator Name</th>\n",
       "      <th>Country Name</th>\n",
       "      <th>Country Code</th>\n",
       "      <th>Year</th>\n",
       "      <th>Age dependency ratio (% of working-age population)</th>\n",
       "      <th>Age dependency ratio, old</th>\n",
       "      <th>Age dependency ratio, young</th>\n",
       "      <th>Age population, age 00, female, interpolated</th>\n",
       "      <th>Age population, age 00, male, interpolated</th>\n",
       "      <th>Age population, age 01, female, interpolated</th>\n",
       "      <th>Age population, age 01, male, interpolated</th>\n",
       "      <th>...</th>\n",
       "      <th>Population, male (% of total population)</th>\n",
       "      <th>Population, total</th>\n",
       "      <th>Probability of dying at age 5-14 years (per 1,000 children age 5)</th>\n",
       "      <th>Rural population</th>\n",
       "      <th>Rural population (% of total population)</th>\n",
       "      <th>Rural population growth (annual %)</th>\n",
       "      <th>Sex ratio at birth (male births per female births)</th>\n",
       "      <th>Urban population</th>\n",
       "      <th>Urban population (% of total population)</th>\n",
       "      <th>Urban population growth (annual %)</th>\n",
       "    </tr>\n",
       "  </thead>\n",
       "  <tbody>\n",
       "    <tr>\n",
       "      <th>0</th>\n",
       "      <td>Afghanistan</td>\n",
       "      <td>AFG</td>\n",
       "      <td>1960</td>\n",
       "      <td>81.617277</td>\n",
       "      <td>5.082210</td>\n",
       "      <td>76.535066</td>\n",
       "      <td>179444.0</td>\n",
       "      <td>178269.0</td>\n",
       "      <td>163013.0</td>\n",
       "      <td>165667.0</td>\n",
       "      <td>...</td>\n",
       "      <td>51.679338</td>\n",
       "      <td>8996973.0</td>\n",
       "      <td>NaN</td>\n",
       "      <td>8241137.0</td>\n",
       "      <td>91.599</td>\n",
       "      <td>1.528858</td>\n",
       "      <td>NaN</td>\n",
       "      <td>755836.0</td>\n",
       "      <td>8.401</td>\n",
       "      <td>5.156936</td>\n",
       "    </tr>\n",
       "    <tr>\n",
       "      <th>1</th>\n",
       "      <td>Afghanistan</td>\n",
       "      <td>AFG</td>\n",
       "      <td>1961</td>\n",
       "      <td>82.688685</td>\n",
       "      <td>5.130137</td>\n",
       "      <td>77.558548</td>\n",
       "      <td>183622.0</td>\n",
       "      <td>182276.0</td>\n",
       "      <td>172255.0</td>\n",
       "      <td>172307.0</td>\n",
       "      <td>...</td>\n",
       "      <td>51.587311</td>\n",
       "      <td>9169410.0</td>\n",
       "      <td>NaN</td>\n",
       "      <td>8373138.0</td>\n",
       "      <td>91.316</td>\n",
       "      <td>1.589040</td>\n",
       "      <td>NaN</td>\n",
       "      <td>796272.0</td>\n",
       "      <td>8.684</td>\n",
       "      <td>5.211641</td>\n",
       "    </tr>\n",
       "    <tr>\n",
       "      <th>2</th>\n",
       "      <td>Afghanistan</td>\n",
       "      <td>AFG</td>\n",
       "      <td>1962</td>\n",
       "      <td>83.289387</td>\n",
       "      <td>5.139642</td>\n",
       "      <td>78.149745</td>\n",
       "      <td>186652.0</td>\n",
       "      <td>186730.0</td>\n",
       "      <td>170911.0</td>\n",
       "      <td>174172.0</td>\n",
       "      <td>...</td>\n",
       "      <td>51.500613</td>\n",
       "      <td>9351441.0</td>\n",
       "      <td>NaN</td>\n",
       "      <td>8512056.0</td>\n",
       "      <td>91.024</td>\n",
       "      <td>1.645479</td>\n",
       "      <td>1.06</td>\n",
       "      <td>839385.0</td>\n",
       "      <td>8.976</td>\n",
       "      <td>5.272864</td>\n",
       "    </tr>\n",
       "  </tbody>\n",
       "</table>\n",
       "<p>3 rows × 178 columns</p>\n",
       "</div>"
      ],
      "text/plain": [
       "Indicator Name Country Name Country Code  Year  \\\n",
       "0               Afghanistan          AFG  1960   \n",
       "1               Afghanistan          AFG  1961   \n",
       "2               Afghanistan          AFG  1962   \n",
       "\n",
       "Indicator Name  Age dependency ratio (% of working-age population)  \\\n",
       "0                                                       81.617277    \n",
       "1                                                       82.688685    \n",
       "2                                                       83.289387    \n",
       "\n",
       "Indicator Name  Age dependency ratio, old  Age dependency ratio, young  \\\n",
       "0                                5.082210                    76.535066   \n",
       "1                                5.130137                    77.558548   \n",
       "2                                5.139642                    78.149745   \n",
       "\n",
       "Indicator Name  Age population, age 00, female, interpolated  \\\n",
       "0                                                   179444.0   \n",
       "1                                                   183622.0   \n",
       "2                                                   186652.0   \n",
       "\n",
       "Indicator Name  Age population, age 00, male, interpolated  \\\n",
       "0                                                 178269.0   \n",
       "1                                                 182276.0   \n",
       "2                                                 186730.0   \n",
       "\n",
       "Indicator Name  Age population, age 01, female, interpolated  \\\n",
       "0                                                   163013.0   \n",
       "1                                                   172255.0   \n",
       "2                                                   170911.0   \n",
       "\n",
       "Indicator Name  Age population, age 01, male, interpolated  ...  \\\n",
       "0                                                 165667.0  ...   \n",
       "1                                                 172307.0  ...   \n",
       "2                                                 174172.0  ...   \n",
       "\n",
       "Indicator Name  Population, male (% of total population)  Population, total  \\\n",
       "0                                              51.679338          8996973.0   \n",
       "1                                              51.587311          9169410.0   \n",
       "2                                              51.500613          9351441.0   \n",
       "\n",
       "Indicator Name  Probability of dying at age 5-14 years (per 1,000 children age 5)  \\\n",
       "0                                                             NaN                   \n",
       "1                                                             NaN                   \n",
       "2                                                             NaN                   \n",
       "\n",
       "Indicator Name  Rural population  Rural population (% of total population)  \\\n",
       "0                      8241137.0                                    91.599   \n",
       "1                      8373138.0                                    91.316   \n",
       "2                      8512056.0                                    91.024   \n",
       "\n",
       "Indicator Name  Rural population growth (annual %)  \\\n",
       "0                                         1.528858   \n",
       "1                                         1.589040   \n",
       "2                                         1.645479   \n",
       "\n",
       "Indicator Name  Sex ratio at birth (male births per female births)  \\\n",
       "0                                                             NaN    \n",
       "1                                                             NaN    \n",
       "2                                                            1.06    \n",
       "\n",
       "Indicator Name  Urban population  Urban population (% of total population)  \\\n",
       "0                       755836.0                                     8.401   \n",
       "1                       796272.0                                     8.684   \n",
       "2                       839385.0                                     8.976   \n",
       "\n",
       "Indicator Name  Urban population growth (annual %)  \n",
       "0                                         5.156936  \n",
       "1                                         5.211641  \n",
       "2                                         5.272864  \n",
       "\n",
       "[3 rows x 178 columns]"
      ]
     },
     "execution_count": 9,
     "metadata": {},
     "output_type": "execute_result"
    }
   ],
   "source": [
    "df = df.reset_index()\n",
    "df.head(3)"
   ]
  },
  {
   "cell_type": "code",
   "execution_count": 10,
   "metadata": {},
   "outputs": [
    {
     "data": {
      "text/plain": [
       "Indicator Name\n",
       "Probability of dying at age 5-14 years (per 1,000 children age 5)    95.002563\n",
       "Number of deaths ages 5-14 years                                     95.002563\n",
       "Mortality rate, under-5, male (per 1,000)                            95.002563\n",
       "Mortality rate, under-5, female (per 1,000)                          95.002563\n",
       "Mortality rate, infant, male (per 1,000 live births)                 95.002563\n",
       "Mortality rate, infant, female (per 1,000 live births)               95.002563\n",
       "Net migration                                                        81.983598\n",
       "Sex ratio at birth (male births per female births)                   74.000513\n",
       "Number of neonatal deaths                                            58.077055\n",
       "Mortality rate, neonatal (per 1,000 live births)                     57.393644\n",
       "Number of under-five deaths                                          54.100461\n",
       "Number of infant deaths                                              52.225355\n",
       "Mortality rate, under-5 (per 1,000)                                  51.793952\n",
       "Mortality rate, infant (per 1,000 live births)                       51.793952\n",
       "dtype: float64"
      ]
     },
     "execution_count": 10,
     "metadata": {},
     "output_type": "execute_result"
    }
   ],
   "source": [
    "'''Se mira que columnas tienen un mayor % de valores nulos para eliminarlas'''\n",
    "\n",
    "null_cols = df.isnull().sum()/len(df)*100\n",
    "drop_col = null_cols[null_cols>50].sort_values(ascending=False)\n",
    "drop_col"
   ]
  },
  {
   "cell_type": "code",
   "execution_count": 11,
   "metadata": {},
   "outputs": [],
   "source": [
    "df = df.drop(columns=list(drop_col.index))"
   ]
  },
  {
   "cell_type": "code",
   "execution_count": 12,
   "metadata": {},
   "outputs": [],
   "source": [
    "df['Year'] = df['Year'].astype(int)"
   ]
  },
  {
   "cell_type": "code",
   "execution_count": 13,
   "metadata": {},
   "outputs": [],
   "source": [
    "#columns = [col for col in df.columns if 'age' not in col]"
   ]
  },
  {
   "cell_type": "code",
   "execution_count": 14,
   "metadata": {},
   "outputs": [],
   "source": [
    "countries.sort()"
   ]
  },
  {
   "cell_type": "code",
   "execution_count": 15,
   "metadata": {},
   "outputs": [
    {
     "data": {
      "application/vnd.jupyter.widget-view+json": {
       "model_id": "75ef8fddc05e4074a33d7ba89237ca9e",
       "version_major": 2,
       "version_minor": 0
      },
      "text/plain": [
       "interactive(children=(Dropdown(description='y', index=45, options=('Age dependency ratio (% of working-age pop…"
      ]
     },
     "metadata": {},
     "output_type": "display_data"
    }
   ],
   "source": [
    "'''En este grafico lo que se quiere mostrar es todas aquellas variables porcentuales (%) para poder comparar paises.\n",
    "El widget te permite seleccionar la variable que quieres analizar y a la vez \n",
    "seleccionar todos aquellos paises que quieras comparar/graficar'''\n",
    "\n",
    "sns.set_style(\"whitegrid\")\n",
    "\n",
    "from ipywidgets import interact\n",
    "def make_plot(y='Population, female (% of total population)',country='Brazil'):\n",
    "    \n",
    "    xf=df[['Country Name','Year',y]][(df['Country Name'].isin(list(country)))]\n",
    "    \n",
    "    sns.relplot(data = xf, x = 'Year', y = y, hue='Country Name',kind='line',height=5, aspect=3) \n",
    "    \n",
    "    \n",
    "_= interact(make_plot, y=list([i for i in df.columns if '%' in i]), country = widgets.SelectMultiple(options=countries))\n"
   ]
  },
  {
   "cell_type": "code",
   "execution_count": 16,
   "metadata": {},
   "outputs": [
    {
     "data": {
      "application/vnd.jupyter.widget-view+json": {
       "model_id": "816845465fd14661a588da07ffb63c50",
       "version_major": 2,
       "version_minor": 0
      },
      "text/plain": [
       "interactive(children=(Dropdown(description='y', index=8, options=('Country Name', 'Country Code', 'Year', 'Age…"
      ]
     },
     "metadata": {},
     "output_type": "display_data"
    }
   ],
   "source": [
    "'''En este grafico hace lo mismo que el anterior pero para aquellas variables que no son %'''\n",
    "\n",
    "def make_plot(y='Life expectancy at birth, female (years)',country='Brazil'):\n",
    "    \n",
    "    xf=df[['Country Name','Year',y]][(df['Country Name'].isin(list(country)))]\n",
    "    \n",
    "    sns.relplot(data = xf, x = 'Year', y = y, hue='Country Name',kind='line',height=5, aspect=3) \n",
    "    \n",
    "columns = [col for col in df if 'Population ages' not in col]\n",
    "columns = [col for col in columns if 'population' not in col]\n",
    "\n",
    "_= interact(make_plot, y=list([i for i in columns if '%' not in i]), country = widgets.SelectMultiple(options=countries))\n"
   ]
  },
  {
   "cell_type": "code",
   "execution_count": 17,
   "metadata": {},
   "outputs": [],
   "source": [
    "'''En el siguiente grafico lo que se quiere mostrar es para un año y un pais en concreto \n",
    "la distribucion por edades de la poblacion asi como por genero. Para ello se hace una \n",
    "seleccion/limpieza de las columnas que interesan y posteriormente se procede a hacer el grafico'''\n",
    "\n",
    "columns = [col for col in df if '%' not in col]\n",
    "columns = [col for col in columns if 'Population ages' in col]\n",
    "columns = [col for col in columns if 'total' not in col]\n",
    "columns = [col for col in columns if '15-64' not in col]\n",
    "columns = [col for col in columns if '65 and above' not in col]"
   ]
  },
  {
   "cell_type": "code",
   "execution_count": 18,
   "metadata": {},
   "outputs": [
    {
     "data": {
      "application/vnd.jupyter.widget-view+json": {
       "model_id": "072ceae48bab4405916b60dcbaec15e8",
       "version_major": 2,
       "version_minor": 0
      },
      "text/plain": [
       "interactive(children=(Dropdown(description='country', index=216, options=('Afghanistan', 'Albania', 'Algeria',…"
      ]
     },
     "metadata": {},
     "output_type": "display_data"
    }
   ],
   "source": [
    "def make_plot2(country='Spain', year=2020):\n",
    "    plt.figure(figsize=(8,10))\n",
    "    xp=df[(df['Country Name']==country)&(df['Year']==year.astype(int))]\n",
    "    xp = pd.DataFrame(xp)\n",
    "    xp = xp[xp.columns.intersection(columns)].stack()\n",
    "    xp = xp.reset_index()\n",
    "    xp = xp.rename(columns={0:'Values'})\n",
    "    xp = xp.drop(xp.index[:3])\n",
    "    xp['Color']=np.where(xp['Indicator Name'].str.contains('female'),'Female','Male')\n",
    "       \n",
    "    sns.barplot(x='Values', y='Indicator Name',data=xp, hue='Color',alpha = 0.9, edgecolor = 'k', linewidth = 1)\n",
    "    \n",
    "_= interact(make_plot2, country =countries, year=[i for i in list(df['Year'].unique())])"
   ]
  },
  {
   "cell_type": "code",
   "execution_count": null,
   "metadata": {},
   "outputs": [
    {
     "data": {
      "image/png": "[encoded data removed]",
      "text/plain": [
       "<Figure size 864x720 with 1 Axes>"
      ]
     },
     "metadata": {},
     "output_type": "display_data"
    }
   ],
   "source": [
    "'''Para esta parte se ha querizo hacer un grafico animado que mostrara la \n",
    "evolucion de una metrica a lo largo del tiempo. \n",
    "- Se queria que fuera bubble pero no se ha conseguido\n",
    "- El dataset no daba mucha posibilidad de imaginacion para este tipo de grafico\n",
    "- Se han seleccionado solo las regiones''/paises/continentes de mayor poblacion ya que \n",
    "    el grafico pesaba demasiado y tardaba mucho en cargar'''\n",
    "\n",
    "\n",
    "n = df['Year'].unique()\n",
    "n = n[n<2020]\n",
    "for i in n:\n",
    "    plt.figure(figsize=(12,10))\n",
    "    plt.xlim(0, 100)\n",
    "    plt.ylim(0, 100)\n",
    "    test=df[(df['Year']==i)&(df['Population, total']>500000000)]\n",
    "    sns.scatterplot(x='Birth rate, crude (per 1,000 people)', y='Life expectancy at birth, total (years)',\n",
    "                    data=test, hue='Country Name')\n",
    "    ax = plt.gca()\n",
    "    ax.set_title(i,fontsize=14)\n",
    "    plt.show()\n",
    "    clear_output(wait=True)\n",
    "\n",
    "\n"
   ]
  },
  {
   "cell_type": "code",
   "execution_count": 23,
   "metadata": {},
   "outputs": [
    {
     "data": {
      "text/plain": [
       "<Figure size 1008x576 with 0 Axes>"
      ]
     },
     "metadata": {},
     "output_type": "display_data"
    }
   ],
   "source": [
    "'''Un histograma que tambien esta animado y permite ver el numero de paises vs el ratio de fertilidad con \n",
    "el paso de los años. Claramente se observa que con el paso de los años la natalidad va bajando'''\n",
    "\n",
    "\n",
    "n = df['Year'].unique()\n",
    "n = n[n<2017]\n",
    "for i in n:\n",
    "    plt.figure(figsize=(14,8))\n",
    "    plt.xlim(0, 10)\n",
    "    plt.ylim(0, 60)\n",
    "    data_hist=df[df['Year']==i]\n",
    "    plt.hist(x=data_hist['Fertility rate, total (births per woman)'],bins=20,alpha=0.6)\n",
    "    \n",
    "    \n",
    "    ax = plt.gca()\n",
    "    \n",
    "    ax.set_title(i,loc='center',pad=15,fontsize=18)\n",
    "    ax.set_xlabel(\"Births per woman\",fontsize=16)\n",
    "    ax.set_ylabel(\"Num Counties\",fontsize=16,labelpad=20)\n",
    "    ax.spines['right'].set_visible(False)\n",
    "    ax.spines['top'].set_visible(False)\n",
    "    plt.show()\n",
    "    clear_output(wait=True)\n",
    "    \n",
    "\n",
    "\n",
    "plt.figure(figsize=(14,8))\n",
    "\n",
    "plt.show()"
   ]
  },
  {
   "cell_type": "code",
   "execution_count": null,
   "metadata": {},
   "outputs": [],
   "source": []
  }
 ],
 "metadata": {
  "kernelspec": {
   "display_name": "Python 3",
   "language": "python",
   "name": "python3"
  },
  "language_info": {
   "codemirror_mode": {
    "name": "ipython",
    "version": 3
   },
   "file_extension": ".py",
   "mimetype": "text/x-python",
   "name": "python",
   "nbconvert_exporter": "python",
   "pygments_lexer": "ipython3",
   "version": "3.7.6"
  }
 },
 "nbformat": 4,
 "nbformat_minor": 2
}
